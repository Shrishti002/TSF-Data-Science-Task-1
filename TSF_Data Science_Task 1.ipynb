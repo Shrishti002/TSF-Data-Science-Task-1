{
 "cells": [
  {
   "cell_type": "markdown",
   "id": "natural-congress",
   "metadata": {},
   "source": [
    "# SHRISHTI S NANDANWAR"
   ]
  },
  {
   "cell_type": "markdown",
   "id": "african-volume",
   "metadata": {},
   "source": [
    "## THE SPARKS FOUNDATION"
   ]
  },
  {
   "cell_type": "markdown",
   "id": "sunrise-columbus",
   "metadata": {},
   "source": [
    "### Data Science and Business Analytics Internship"
   ]
  },
  {
   "cell_type": "markdown",
   "id": "afraid-catalyst",
   "metadata": {},
   "source": [
    "### Task 1 : Prediction using Supervised ML (Predicting percentage of student based on the no. of study hours)"
   ]
  },
  {
   "cell_type": "code",
   "execution_count": 1,
   "id": "marine-gnome",
   "metadata": {},
   "outputs": [],
   "source": [
    "# Importing all libraries required in this notebook\n",
    "import pandas as pd\n",
    "import numpy as np  \n",
    "import matplotlib.pyplot as plt  \n",
    "%matplotlib inline\n",
    "from sklearn.model_selection import train_test_split\n",
    "from sklearn.metrics import mean_squared_error\n",
    "from sklearn.metrics import r2_score\n",
    "from sklearn.metrics import mean_absolute_error"
   ]
  },
  {
   "cell_type": "code",
   "execution_count": 2,
   "id": "popular-essay",
   "metadata": {},
   "outputs": [
    {
     "name": "stdout",
     "output_type": "stream",
     "text": [
      "Data imported!\n"
     ]
    },
    {
     "data": {
      "text/html": [
       "<div>\n",
       "<style scoped>\n",
       "    .dataframe tbody tr th:only-of-type {\n",
       "        vertical-align: middle;\n",
       "    }\n",
       "\n",
       "    .dataframe tbody tr th {\n",
       "        vertical-align: top;\n",
       "    }\n",
       "\n",
       "    .dataframe thead th {\n",
       "        text-align: right;\n",
       "    }\n",
       "</style>\n",
       "<table border=\"1\" class=\"dataframe\">\n",
       "  <thead>\n",
       "    <tr style=\"text-align: right;\">\n",
       "      <th></th>\n",
       "      <th>Hours</th>\n",
       "      <th>Scores</th>\n",
       "    </tr>\n",
       "  </thead>\n",
       "  <tbody>\n",
       "    <tr>\n",
       "      <th>0</th>\n",
       "      <td>2.5</td>\n",
       "      <td>21</td>\n",
       "    </tr>\n",
       "    <tr>\n",
       "      <th>1</th>\n",
       "      <td>5.1</td>\n",
       "      <td>47</td>\n",
       "    </tr>\n",
       "    <tr>\n",
       "      <th>2</th>\n",
       "      <td>3.2</td>\n",
       "      <td>27</td>\n",
       "    </tr>\n",
       "    <tr>\n",
       "      <th>3</th>\n",
       "      <td>8.5</td>\n",
       "      <td>75</td>\n",
       "    </tr>\n",
       "    <tr>\n",
       "      <th>4</th>\n",
       "      <td>3.5</td>\n",
       "      <td>30</td>\n",
       "    </tr>\n",
       "    <tr>\n",
       "      <th>5</th>\n",
       "      <td>1.5</td>\n",
       "      <td>20</td>\n",
       "    </tr>\n",
       "    <tr>\n",
       "      <th>6</th>\n",
       "      <td>9.2</td>\n",
       "      <td>88</td>\n",
       "    </tr>\n",
       "    <tr>\n",
       "      <th>7</th>\n",
       "      <td>5.5</td>\n",
       "      <td>60</td>\n",
       "    </tr>\n",
       "    <tr>\n",
       "      <th>8</th>\n",
       "      <td>8.3</td>\n",
       "      <td>81</td>\n",
       "    </tr>\n",
       "    <tr>\n",
       "      <th>9</th>\n",
       "      <td>2.7</td>\n",
       "      <td>25</td>\n",
       "    </tr>\n",
       "  </tbody>\n",
       "</table>\n",
       "</div>"
      ],
      "text/plain": [
       "   Hours  Scores\n",
       "0    2.5      21\n",
       "1    5.1      47\n",
       "2    3.2      27\n",
       "3    8.5      75\n",
       "4    3.5      30\n",
       "5    1.5      20\n",
       "6    9.2      88\n",
       "7    5.5      60\n",
       "8    8.3      81\n",
       "9    2.7      25"
      ]
     },
     "execution_count": 2,
     "metadata": {},
     "output_type": "execute_result"
    }
   ],
   "source": [
    "# Reading the Data\n",
    "\n",
    "data = pd.read_csv('http://bit.ly/w-data')\n",
    "print(\"Data imported!\")\n",
    "\n",
    "data.head(10)"
   ]
  },
  {
   "cell_type": "markdown",
   "id": "traditional-clone",
   "metadata": {},
   "source": [
    "## Plotting The Graph"
   ]
  },
  {
   "cell_type": "code",
   "execution_count": 3,
   "id": "photographic-geology",
   "metadata": {},
   "outputs": [
    {
     "data": {
      "image/png": "[encoded data removed]",
      "text/plain": [
       "<Figure size 432x288 with 1 Axes>"
      ]
     },
     "metadata": {
      "needs_background": "light"
     },
     "output_type": "display_data"
    }
   ],
   "source": [
    "# Plotting the distribution of scores\n",
    "\n",
    "data.plot(x='Hours', y='Scores', style='o')  \n",
    "plt.title('Hours vs Percentage', size=20)  \n",
    "plt.xlabel('No. of hours Studied')  \n",
    "plt.ylabel('Percentage Scores') \n",
    "plt.grid()\n",
    "plt.show()"
   ]
  },
  {
   "cell_type": "markdown",
   "id": "egyptian-given",
   "metadata": {},
   "source": [
    "## Training The Model"
   ]
  },
  {
   "cell_type": "code",
   "execution_count": 4,
   "id": "owned-lithuania",
   "metadata": {},
   "outputs": [],
   "source": [
    "#Splitting training and testing data\n",
    "x=data.iloc[:,:-1].values\n",
    "y=data.iloc[:,1].values\n",
    "x_train, x_test, y_train, y_test= train_test_split(x, y,train_size=0.80,test_size=0.20,random_state=0)"
   ]
  },
  {
   "cell_type": "code",
   "execution_count": 5,
   "id": "another-watts",
   "metadata": {},
   "outputs": [],
   "source": [
    "from sklearn.linear_model import LinearRegression\n",
    "linearRegressor= LinearRegression()\n",
    "linearRegressor.fit(x_train, y_train)\n",
    "y_predict= linearRegressor.predict(x_train)"
   ]
  },
  {
   "cell_type": "code",
   "execution_count": 6,
   "id": "boring-analyst",
   "metadata": {},
   "outputs": [
    {
     "name": "stdout",
     "output_type": "stream",
     "text": [
      "Training complete.\n"
     ]
    }
   ],
   "source": [
    "regressor = LinearRegression()  \n",
    "regressor.fit(x_train, y_train) \n",
    "\n",
    "print(\"Training complete.\")"
   ]
  },
  {
   "cell_type": "markdown",
   "id": "comprehensive-discussion",
   "metadata": {},
   "source": [
    "## Linear Regression Model"
   ]
  },
  {
   "cell_type": "code",
   "execution_count": 7,
   "id": "center-treasure",
   "metadata": {},
   "outputs": [
    {
     "data": {
      "image/png": "[encoded data removed]",
      "text/plain": [
       "<Figure size 432x288 with 1 Axes>"
      ]
     },
     "metadata": {
      "needs_background": "light"
     },
     "output_type": "display_data"
    }
   ],
   "source": [
    "# Plotting the regression line\n",
    "line = regressor.coef_*x+regressor.intercept_\n",
    "# Plotting for the test data\n",
    "plt.title('Linear Reression Plot', size=20) \n",
    "plt.ylabel('Marks Percentage')\n",
    "plt.xlabel('Hours Studied')\n",
    "plt.scatter(x, y)\n",
    "plt.plot(x, line);\n",
    "plt.show()"
   ]
  },
  {
   "cell_type": "markdown",
   "id": "educational-destiny",
   "metadata": {},
   "source": [
    "## Checking the Accuracy Scores"
   ]
  },
  {
   "cell_type": "code",
   "execution_count": 8,
   "id": "bridal-pharmacy",
   "metadata": {},
   "outputs": [
    {
     "name": "stdout",
     "output_type": "stream",
     "text": [
      "Test Score\n",
      "0.9454906892105354\n",
      "Training Score\n",
      "0.9515510725211552\n"
     ]
    }
   ],
   "source": [
    "print('Test Score')\n",
    "print(regressor.score(x_test, y_test))\n",
    "print('Training Score')\n",
    "print(regressor.score(x_train, y_train))"
   ]
  },
  {
   "cell_type": "markdown",
   "id": "absolute-necessity",
   "metadata": {},
   "source": [
    "## Prediction Scores"
   ]
  },
  {
   "cell_type": "code",
   "execution_count": 10,
   "id": "further-tonight",
   "metadata": {},
   "outputs": [
    {
     "name": "stdout",
     "output_type": "stream",
     "text": [
      "[[1.5]\n",
      " [3.2]\n",
      " [7.4]\n",
      " [2.5]\n",
      " [5.9]]\n"
     ]
    }
   ],
   "source": [
    "# Predicting the scores\n",
    "print(x_test) \n",
    "y_pred = regressor.predict(x_test)"
   ]
  },
  {
   "cell_type": "code",
   "execution_count": 16,
   "id": "mineral-annex",
   "metadata": {},
   "outputs": [
    {
     "data": {
      "text/html": [
       "<div>\n",
       "<style scoped>\n",
       "    .dataframe tbody tr th:only-of-type {\n",
       "        vertical-align: middle;\n",
       "    }\n",
       "\n",
       "    .dataframe tbody tr th {\n",
       "        vertical-align: top;\n",
       "    }\n",
       "\n",
       "    .dataframe thead th {\n",
       "        text-align: right;\n",
       "    }\n",
       "</style>\n",
       "<table border=\"1\" class=\"dataframe\">\n",
       "  <thead>\n",
       "    <tr style=\"text-align: right;\">\n",
       "      <th></th>\n",
       "      <th>Actual</th>\n",
       "      <th>Predicted</th>\n",
       "    </tr>\n",
       "  </thead>\n",
       "  <tbody>\n",
       "    <tr>\n",
       "      <th>0</th>\n",
       "      <td>20</td>\n",
       "      <td>39.678655</td>\n",
       "    </tr>\n",
       "    <tr>\n",
       "      <th>1</th>\n",
       "      <td>27</td>\n",
       "      <td>20.848407</td>\n",
       "    </tr>\n",
       "    <tr>\n",
       "      <th>2</th>\n",
       "      <td>69</td>\n",
       "      <td>79.321281</td>\n",
       "    </tr>\n",
       "    <tr>\n",
       "      <th>3</th>\n",
       "      <td>30</td>\n",
       "      <td>70.401690</td>\n",
       "    </tr>\n",
       "    <tr>\n",
       "      <th>4</th>\n",
       "      <td>62</td>\n",
       "      <td>12.919882</td>\n",
       "    </tr>\n",
       "  </tbody>\n",
       "</table>\n",
       "</div>"
      ],
      "text/plain": [
       "   Actual  Predicted\n",
       "0      20  39.678655\n",
       "1      27  20.848407\n",
       "2      69  79.321281\n",
       "3      30  70.401690\n",
       "4      62  12.919882"
      ]
     },
     "execution_count": 16,
     "metadata": {},
     "output_type": "execute_result"
    }
   ],
   "source": [
    "data= pd.DataFrame({'Actual': y_test,'Predicted': y_predict[:5]})\n",
    "data"
   ]
  },
  {
   "cell_type": "markdown",
   "id": "solar-milwaukee",
   "metadata": {},
   "source": [
    "## Evaluation"
   ]
  },
  {
   "cell_type": "code",
   "execution_count": 17,
   "id": "comic-blocking",
   "metadata": {},
   "outputs": [
    {
     "name": "stdout",
     "output_type": "stream",
     "text": [
      "Mean Squred Error: 914.5549752244242\n",
      "Mean absolute Error: 25.126667098277874\n"
     ]
    }
   ],
   "source": [
    "#Checking the efficiency of model\n",
    "mean_squ_error = mean_squared_error(y_test, y_predict[:5])\n",
    "mean_abs_error = mean_absolute_error(y_test, y_predict[:5])\n",
    "print(\"Mean Squred Error:\",mean_squ_error)\n",
    "print(\"Mean absolute Error:\",mean_abs_error)"
   ]
  },
  {
   "cell_type": "markdown",
   "id": "institutional-mathematics",
   "metadata": {},
   "source": [
    "## Predicting the scores of a student if studied time is 9.25hrs:"
   ]
  },
  {
   "cell_type": "code",
   "execution_count": 19,
   "id": "tutorial-murder",
   "metadata": {},
   "outputs": [
    {
     "name": "stdout",
     "output_type": "stream",
     "text": [
      "No of Hours studied: [9.25]\n",
      "Predicted Score = [93.69173249]\n"
     ]
    }
   ],
   "source": [
    "hrs = [9.25]\n",
    "result = regressor.predict([hrs])\n",
    "print(f\"No of Hours studied: {hrs}\")\n",
    "print(f\"Predicted Score = {result}\")"
   ]
  },
  {
   "cell_type": "markdown",
   "id": "hidden-consciousness",
   "metadata": {},
   "source": [
    "### According to our trained model, predicted score is 93.89 after studing for 9.25 hrs."
   ]
  },
  {
   "cell_type": "code",
   "execution_count": null,
   "id": "dimensional-collector",
   "metadata": {},
   "outputs": [],
   "source": []
  }
 ],
 "metadata": {
  "kernelspec": {
   "display_name": "Python 3",
   "language": "python",
   "name": "python3"
  },
  "language_info": {
   "codemirror_mode": {
    "name": "ipython",
    "version": 3
   },
   "file_extension": ".py",
   "mimetype": "text/x-python",
   "name": "python",
   "nbconvert_exporter": "python",
   "pygments_lexer": "ipython3",
   "version": "3.6.13"
  }
 },
 "nbformat": 4,
 "nbformat_minor": 5
}
